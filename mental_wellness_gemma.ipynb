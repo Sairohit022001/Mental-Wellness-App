{
 "cells": [
  {
   "cell_type": "code",
   "execution_count": 20,
   "id": "debfe901",
   "metadata": {},
   "outputs": [],
   "source": [
    "import sys\n",
    "import os\n",
    "\n",
    "# Add project root directory to sys.path for module imports\n",
    "project_root = os.path.abspath(os.path.join(os.getcwd()))\n",
    "if project_root not in sys.path:\n",
    "    sys.path.insert(0, project_root)"
   ]
  },
  {
   "cell_type": "code",
   "execution_count": 26,
   "id": "2d936aef",
   "metadata": {},
   "outputs": [
    {
     "ename": "ModuleNotFoundError",
     "evalue": "No module named 'agents_path'",
     "output_type": "error",
     "traceback": [
      "\u001b[31m---------------------------------------------------------------------------\u001b[39m",
      "\u001b[31mModuleNotFoundError\u001b[39m                       Traceback (most recent call last)",
      "\u001b[36mCell\u001b[39m\u001b[36m \u001b[39m\u001b[32mIn[26]\u001b[39m\u001b[32m, line 11\u001b[39m\n\u001b[32m      9\u001b[39m     \u001b[38;5;28;01mwith\u001b[39;00m \u001b[38;5;28mopen\u001b[39m(init_file, \u001b[33m\"\u001b[39m\u001b[33mw\u001b[39m\u001b[33m\"\u001b[39m) \u001b[38;5;28;01mas\u001b[39;00m f:\n\u001b[32m     10\u001b[39m         \u001b[38;5;28;01mpass\u001b[39;00m  \u001b[38;5;66;03m# create empty __init__.py\u001b[39;00m\n\u001b[32m---> \u001b[39m\u001b[32m11\u001b[39m \u001b[38;5;28;01mimport\u001b[39;00m\u001b[38;5;250m \u001b[39m\u001b[34;01magents_path\u001b[39;00m\n\u001b[32m     12\u001b[39m \u001b[38;5;28;01mimport\u001b[39;00m\u001b[38;5;250m \u001b[39m\u001b[34;01mCrewai\u001b[39;00m\n\u001b[32m     13\u001b[39m \u001b[38;5;66;03m# 📦 Agent Imports\u001b[39;00m\n",
      "\u001b[31mModuleNotFoundError\u001b[39m: No module named 'agents_path'"
     ]
    }
   ],
   "source": [
    "# Add agents_path to sys.path if not already present\n",
    "if agents_path not in sys.path:\n",
    "    sys.path.insert(0, agents_path)\n",
    "\n",
    "# Ensure agents_path exists and is a package by creating __init__.py if it doesn't exist\n",
    "os.makedirs(agents_path, exist_ok=True)\n",
    "init_file = os.path.join(agents_path, \"__init__.py\")\n",
    "if not os.path.exists(init_file):\n",
    "    with open(init_file, \"w\") as f:\n",
    "        pass  # create empty __init__.py\n",
    "import agents_path\n",
    "import Crewai\n",
    "# 📦 Agent Imports\n",
    "from response_agent import response_agent\n",
    "from fallback_agent import fallback_agent\n",
    "from journaling_agent import journaling_agent\n",
    "from breath_guide_agent import breath_guide_agent\n",
    "from checkin_agent import checkin_agent\n",
    "\n",
    "# 📥 Test Inputs\n",
    "test_inputs = {\n",
    "    \"checkin_agent\": \"How am I feeling today?\",\n",
    "    \"journaling_agent\": \"I want to journal about my stress at work.\",\n",
    "    \"breath_guide_agent\": \"Help me with a calming breath technique.\",\n",
    "    \"fallback_agent\": \"asdkjfhalksdjfh\",  # gibberish input\n",
    "    \"response_agent\": \"I'm feeling overwhelmed and anxious. Please help me.\"\n",
    "}\n",
    "\n",
    "# 🤖 Agent Execution\n",
    "agent_outputs = {\n",
    "    \"checkin_agent\": checkin_agent.run(test_inputs[\"checkin_agent\"]),\n",
    "    \"journaling_agent\": journaling_agent.run(test_inputs[\"journaling_agent\"]),\n",
    "    \"breath_guide_agent\": breath_guide_agent.run(test_inputs[\"breath_guide_agent\"]),\n",
    "    \"fallback_agent\": fallback_agent.run(test_inputs[\"fallback_agent\"]),\n",
    "    \"response_agent\": response_agent.run(test_inputs[\"response_agent\"])\n",
    "}\n",
    "\n",
    "# 📤 Show Outputs\n",
    "for agent_name, output in agent_outputs.items():\n",
    "    print(f\"🧠 {agent_name} says:\\n{output}\\n{'-'*60}\")\n"
   ]
  },
  {
   "cell_type": "code",
   "execution_count": 22,
   "id": "05f4e75b",
   "metadata": {},
   "outputs": [
    {
     "name": "stdout",
     "output_type": "stream",
     "text": [
      "Agents path: C:\\Users\\BUKKA SAIROHITH\\offline-mental-wellness-companion\\gemma-2b-it-Q4_K_M-GGUF\\agents\n",
      "Contents of agents directory: Directory does not exist\n"
     ]
    }
   ],
   "source": [
    "agents_path = os.path.join(project_root, \"agents\")\n",
    "print(\"Agents path:\", agents_path)\n",
    "print(\"Contents of agents directory:\", os.listdir(agents_path) if os.path.exists(agents_path) else \"Directory does not exist\")"
   ]
  },
  {
   "cell_type": "code",
   "execution_count": 12,
   "id": "63f7706a",
   "metadata": {},
   "outputs": [
    {
     "name": "stdout",
     "output_type": "stream",
     "text": [
      "Project root: C:\\Users\\BUKKA SAIROHITH\\offline-mental-wellness-companion\\gemma-2b-it-Q4_K_M-GGUF\n",
      "Contents of project root: ['.git', '.gitattributes', 'config.json', 'gemma-2b-it.Q4_K_M.gguf', 'generation_config.json', 'README.md', 'special_tokens_map.json', 'tokenizer.json', 'tokenizer.model', 'tokenizer_config.json']\n"
     ]
    }
   ],
   "source": [
    "import os\n",
    "\n",
    "print(\"Project root:\", project_root)\n",
    "print(\"Contents of project root:\", os.listdir(project_root))"
   ]
  }
 ],
 "metadata": {
  "kernelspec": {
   "display_name": "Python 3 (ipykernel)",
   "language": "python",
   "name": "python3"
  },
  "language_info": {
   "codemirror_mode": {
    "name": "ipython",
    "version": 3
   },
   "file_extension": ".py",
   "mimetype": "text/x-python",
   "name": "python",
   "nbconvert_exporter": "python",
   "pygments_lexer": "ipython3",
   "version": "3.13.2"
  }
 },
 "nbformat": 4,
 "nbformat_minor": 5
}
